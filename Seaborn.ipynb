{
 "cells": [
  {
   "cell_type": "code",
   "execution_count": 1,
   "id": "b3450a6f-9e3c-446f-a863-b1c032fe9f4a",
   "metadata": {},
   "outputs": [],
   "source": [
    "import pandas as pd\n",
    "import numpy as np\n",
    "import matplotlib.pyplot as plt\n",
    "import seaborn as sns"
   ]
  },
  {
   "cell_type": "code",
   "execution_count": 39,
   "id": "761b1d64-4c1d-4fd1-89a0-16aafe7fc02b",
   "metadata": {},
   "outputs": [
    {
     "name": "stdout",
     "output_type": "stream",
     "text": [
      "track_name              object\n",
      "artist(s)_name          object\n",
      "artist_count             int64\n",
      "released_year            int64\n",
      "released_month           int64\n",
      "released_day             int64\n",
      "in_spotify_playlists     int64\n",
      "in_spotify_charts        int64\n",
      "streams                 object\n",
      "in_apple_playlists       int64\n",
      "in_apple_charts          int64\n",
      "in_deezer_playlists     object\n",
      "in_deezer_charts         int64\n",
      "in_shazam_charts        object\n",
      "bpm                      int64\n",
      "key                     object\n",
      "mode                    object\n",
      "danceability_%           int64\n",
      "valence_%                int64\n",
      "energy_%                 int64\n",
      "acousticness_%           int64\n",
      "instrumentalness_%       int64\n",
      "liveness_%               int64\n",
      "speechiness_%            int64\n",
      "cover_url               object\n",
      "dtype: object\n",
      "(953, 25)\n",
      "                            track_name              artist(s)_name  \\\n",
      "0  Seven (feat. Latto) (Explicit Ver.)            Latto, Jung Kook   \n",
      "1                                 LALA                 Myke Towers   \n",
      "2                              vampire              Olivia Rodrigo   \n",
      "3                         Cruel Summer                Taylor Swift   \n",
      "4                       WHERE SHE GOES                   Bad Bunny   \n",
      "5                             Sprinter           Dave, Central Cee   \n",
      "6                      Ella Baila Sola  Eslabon Armado, Peso Pluma   \n",
      "7                             Columbia                     Quevedo   \n",
      "8                             fukumean                       Gunna   \n",
      "9                      La Bebe - Remix       Peso Pluma, Yng Lvcas   \n",
      "\n",
      "   artist_count  released_year  released_month  released_day  \\\n",
      "0             2           2023               7            14   \n",
      "1             1           2023               3            23   \n",
      "2             1           2023               6            30   \n",
      "3             1           2019               8            23   \n",
      "4             1           2023               5            18   \n",
      "5             2           2023               6             1   \n",
      "6             2           2023               3            16   \n",
      "7             1           2023               7             7   \n",
      "8             1           2023               5            15   \n",
      "9             2           2023               3            17   \n",
      "\n",
      "   in_spotify_playlists  in_spotify_charts    streams  in_apple_playlists  \\\n",
      "0                   553                147  141381703                  43   \n",
      "1                  1474                 48  133716286                  48   \n",
      "2                  1397                113  140003974                  94   \n",
      "3                  7858                100  800840817                 116   \n",
      "4                  3133                 50  303236322                  84   \n",
      "5                  2186                 91  183706234                  67   \n",
      "6                  3090                 50  725980112                  34   \n",
      "7                   714                 43   58149378                  25   \n",
      "8                  1096                 83   95217315                  60   \n",
      "9                  2953                 44  553634067                  49   \n",
      "\n",
      "   ...  key   mode  danceability_% valence_%  energy_% acousticness_%  \\\n",
      "0  ...    B  Major              80        89        83             31   \n",
      "1  ...   C#  Major              71        61        74              7   \n",
      "2  ...    F  Major              51        32        53             17   \n",
      "3  ...    A  Major              55        58        72             11   \n",
      "4  ...    A  Minor              65        23        80             14   \n",
      "5  ...   C#  Major              92        66        58             19   \n",
      "6  ...    F  Minor              67        83        76             48   \n",
      "7  ...    F  Major              67        26        71             37   \n",
      "8  ...   C#  Minor              85        22        62             12   \n",
      "9  ...    D  Minor              81        56        48             21   \n",
      "\n",
      "  instrumentalness_%  liveness_%  speechiness_%  \\\n",
      "0                  0           8              4   \n",
      "1                  0          10              4   \n",
      "2                  0          31              6   \n",
      "3                  0          11             15   \n",
      "4                 63          11              6   \n",
      "5                  0           8             24   \n",
      "6                  0           8              3   \n",
      "7                  0          11              4   \n",
      "8                  0          28              9   \n",
      "9                  0           8             33   \n",
      "\n",
      "                                           cover_url  \n",
      "0                                          Not Found  \n",
      "1  https://i.scdn.co/image/ab67616d0000b2730656d5...  \n",
      "2  https://i.scdn.co/image/ab67616d0000b273e85259...  \n",
      "3  https://i.scdn.co/image/ab67616d0000b273e787cf...  \n",
      "4  https://i.scdn.co/image/ab67616d0000b273ab5c9c...  \n",
      "5  https://i.scdn.co/image/ab67616d0000b273e3a09a...  \n",
      "6  https://i.scdn.co/image/ab67616d0000b2732071a0...  \n",
      "7  https://i.scdn.co/image/ab67616d0000b273a00a81...  \n",
      "8  https://i.scdn.co/image/ab67616d0000b273017d5e...  \n",
      "9                                          Not Found  \n",
      "\n",
      "[10 rows x 25 columns]\n"
     ]
    },
    {
     "data": {
      "text/plain": [
       "track_name              object\n",
       "artist(s)_name          object\n",
       "artist_count             int64\n",
       "released_year            int64\n",
       "released_month           int64\n",
       "released_day             int64\n",
       "in_spotify_playlists     int64\n",
       "in_spotify_charts        int64\n",
       "streams                 object\n",
       "in_apple_playlists       int64\n",
       "in_apple_charts          int64\n",
       "in_deezer_playlists     object\n",
       "in_deezer_charts         int64\n",
       "in_shazam_charts        object\n",
       "bpm                      int64\n",
       "key                     object\n",
       "mode                    object\n",
       "danceability_%          object\n",
       "valence_%               object\n",
       "energy_%                object\n",
       "acousticness_%           int64\n",
       "instrumentalness_%       int64\n",
       "liveness_%               int64\n",
       "speechiness_%            int64\n",
       "cover_url               object\n",
       "dtype: object"
      ]
     },
     "execution_count": 39,
     "metadata": {},
     "output_type": "execute_result"
    }
   ],
   "source": [
    "df=pd.read_csv(\"C:/Users/Pccoe/Downloads/Songs.csv\")\n",
    "print(df.dtypes)\n",
    "print(df.shape)\n",
    "print(df.head(10))\n",
    "#change the numeric tyype to categorical variables\n",
    "df['danceability_%']=df['danceability_%'].astype('object')\n",
    "df['valence_%']=df['valence_%'].astype('object')\n",
    "df['energy_%']=df['energy_%'].astype('object')\n",
    "df.dtypes"
   ]
  },
  {
   "cell_type": "code",
   "execution_count": 8,
   "id": "9b048a01-2620-420a-8990-8ff607d041e8",
   "metadata": {},
   "outputs": [
    {
     "data": {
      "text/plain": [
       "<Axes: xlabel='danceability_%', ylabel='Count'>"
      ]
     },
     "execution_count": 8,
     "metadata": {},
     "output_type": "execute_result"
    },
    {
     "data": {
      "image/png": "[encoded data removed]",
      "text/plain": [
       "<Figure size 640x480 with 1 Axes>"
      ]
     },
     "metadata": {},
     "output_type": "display_data"
    }
   ],
   "source": [
    "sns.histplot(data=df['danceability_%'],bins=10,kde=True)"
   ]
  },
  {
   "cell_type": "code",
   "execution_count": 10,
   "id": "8ba72b06-55dc-40de-aed3-887472aa6738",
   "metadata": {},
   "outputs": [
    {
     "data": {
      "text/plain": [
       "<Axes: ylabel='energy_%'>"
      ]
     },
     "execution_count": 10,
     "metadata": {},
     "output_type": "execute_result"
    },
    {
     "data": {
      "image/png": "[encoded data removed]",
      "text/plain": [
       "<Figure size 640x480 with 1 Axes>"
      ]
     },
     "metadata": {},
     "output_type": "display_data"
    }
   ],
   "source": [
    "sns.boxplot(y=df['energy_%'])"
   ]
  },
  {
   "cell_type": "code",
   "execution_count": 14,
   "id": "911fbf8a-9f32-4309-a781-0310e69703ac",
   "metadata": {},
   "outputs": [
    {
     "name": "stdout",
     "output_type": "stream",
     "text": [
      "track_name              object\n",
      "artist(s)_name          object\n",
      "artist_count             int64\n",
      "released_year            int64\n",
      "released_month           int64\n",
      "released_day             int64\n",
      "in_spotify_playlists     int64\n",
      "in_spotify_charts        int64\n",
      "streams                 object\n",
      "in_apple_playlists       int64\n",
      "in_apple_charts          int64\n",
      "in_deezer_playlists     object\n",
      "in_deezer_charts         int64\n",
      "in_shazam_charts        object\n",
      "bpm                      int64\n",
      "key                     object\n",
      "mode                    object\n",
      "danceability_%           int64\n",
      "valence_%                int64\n",
      "energy_%                 int64\n",
      "acousticness_%           int64\n",
      "instrumentalness_%       int64\n",
      "liveness_%               int64\n",
      "speechiness_%            int64\n",
      "cover_url               object\n",
      "dtype: object\n",
      "Index(['track_name', 'artist(s)_name', 'artist_count', 'released_year',\n",
      "       'released_month', 'released_day', 'in_spotify_playlists',\n",
      "       'in_spotify_charts', 'streams', 'in_apple_playlists', 'in_apple_charts',\n",
      "       'in_deezer_playlists', 'in_deezer_charts', 'in_shazam_charts', 'bpm',\n",
      "       'key', 'mode', 'danceability_%', 'valence_%', 'energy_%',\n",
      "       'acousticness_%', 'instrumentalness_%', 'liveness_%', 'speechiness_%',\n",
      "       'cover_url'],\n",
      "      dtype='object')\n"
     ]
    }
   ],
   "source": [
    "print(df.dtypes)\n",
    "print(df.columns)"
   ]
  },
  {
   "cell_type": "code",
   "execution_count": 43,
   "id": "76732ecd-61fe-467d-8087-6ae8a06e5780",
   "metadata": {},
   "outputs": [
    {
     "ename": "TypeError",
     "evalue": "'DataFrame' object is not callable",
     "output_type": "error",
     "traceback": [
      "\u001b[1;31m---------------------------------------------------------------------------\u001b[0m",
      "\u001b[1;31mTypeError\u001b[0m                                 Traceback (most recent call last)",
      "Cell \u001b[1;32mIn[43], line 3\u001b[0m\n\u001b[0;32m      1\u001b[0m \u001b[38;5;28;01mimport\u001b[39;00m \u001b[38;5;21;01mseaborn\u001b[39;00m \u001b[38;5;28;01mas\u001b[39;00m \u001b[38;5;21;01msns\u001b[39;00m\n\u001b[0;32m      2\u001b[0m \u001b[38;5;28;01mimport\u001b[39;00m \u001b[38;5;21;01mmatplotlib\u001b[39;00m\u001b[38;5;21;01m.\u001b[39;00m\u001b[38;5;21;01mpyplot\u001b[39;00m \u001b[38;5;28;01mas\u001b[39;00m \u001b[38;5;21;01mplt\u001b[39;00m\n\u001b[1;32m----> 3\u001b[0m corr\u001b[38;5;241m=\u001b[39mdf([\u001b[38;5;124m'\u001b[39m\u001b[38;5;124mdanceability_\u001b[39m\u001b[38;5;124m%\u001b[39m\u001b[38;5;124m'\u001b[39m,\u001b[38;5;124m'\u001b[39m\u001b[38;5;124mvalence_\u001b[39m\u001b[38;5;124m%\u001b[39m\u001b[38;5;124m'\u001b[39m,\u001b[38;5;124m'\u001b[39m\u001b[38;5;124menergy_\u001b[39m\u001b[38;5;124m%\u001b[39m\u001b[38;5;124m'\u001b[39m])\u001b[38;5;241m.\u001b[39mcorr()\n\u001b[0;32m      4\u001b[0m \u001b[38;5;66;03m#plot the heatmap\u001b[39;00m\n\u001b[0;32m      5\u001b[0m plt\u001b[38;5;241m.\u001b[39mfigure(figsize\u001b[38;5;241m=\u001b[39m(\u001b[38;5;241m6\u001b[39m,\u001b[38;5;241m4\u001b[39m))\n",
      "\u001b[1;31mTypeError\u001b[0m: 'DataFrame' object is not callable"
     ]
    }
   ],
   "source": [
    "import seaborn as sns\n",
    "import matplotlib.pyplot as plt\n",
    "corr=df(['danceability_%','valence_%','energy_%']).corr()\n",
    "#plot the heatmap\n",
    "plt.figure(figsize=(6,4))\n",
    "sns.heatmap(corr,annot=True,cmap='coolwarm')\\\n",
    "#Add a title\n",
    "plt.title('Correlation Heatmap between columns')\n",
    "#show the plot\n",
    "plt.show()\n"
   ]
  },
  {
   "cell_type": "code",
   "execution_count": null,
   "id": "c8753ec7-f0be-447b-8ba9-aec30bf59616",
   "metadata": {},
   "outputs": [],
   "source": []
  },
  {
   "cell_type": "code",
   "execution_count": null,
   "id": "85fc03d7-dfb6-4ac5-ae69-23a10a9be7c3",
   "metadata": {},
   "outputs": [],
   "source": []
  }
 ],
 "metadata": {
  "kernelspec": {
   "display_name": "Python 3 (ipykernel)",
   "language": "python",
   "name": "python3"
  },
  "language_info": {
   "codemirror_mode": {
    "name": "ipython",
    "version": 3
   },
   "file_extension": ".py",
   "mimetype": "text/x-python",
   "name": "python",
   "nbconvert_exporter": "python",
   "pygments_lexer": "ipython3",
   "version": "3.12.4"
  }
 },
 "nbformat": 4,
 "nbformat_minor": 5
}
