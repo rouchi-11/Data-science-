{
 "cells": [
  {
   "cell_type": "code",
   "execution_count": 3,
   "id": "2a739a2c-0f63-447f-8f06-e23e13314ef4",
   "metadata": {},
   "outputs": [
    {
     "name": "stdout",
     "output_type": "stream",
     "text": [
      "[(1, 'Jay', 'M', 20), (2, 'Jaya', 'F', 21), (3, 'rAJ', 'M', 22), (4, 'Kavya', 'F', 21), (5, 'MEENU', 'F', 21), (6, 'Vir', 'M', 21), (7, 'Joy', 'M', 19), (8, 'Virali', 'F', 20)]\n"
     ]
    }
   ],
   "source": [
    "import pandas as pd\n",
    "student=[(1,'Jay','M',20),(2,'Jaya','F',21),(3,'rAJ','M',22),(4,'Kavya','F',21),(5,'MEENU','F',21),(6,'Vir','M',21),(7,'Joy','M',19),(8,'Virali','F',20)]\n",
    "print(student)"
   ]
  },
  {
   "cell_type": "code",
   "execution_count": null,
   "id": "fd010aad-23ea-45bc-9c8b-8ff1d50c7d01",
   "metadata": {},
   "outputs": [],
   "source": [
    "df=pd.DataFrame(data)"
   ]
  }
 ],
 "metadata": {
  "kernelspec": {
   "display_name": "Python 3 (ipykernel)",
   "language": "python",
   "name": "python3"
  },
  "language_info": {
   "codemirror_mode": {
    "name": "ipython",
    "version": 3
   },
   "file_extension": ".py",
   "mimetype": "text/x-python",
   "name": "python",
   "nbconvert_exporter": "python",
   "pygments_lexer": "ipython3",
   "version": "3.12.4"
  }
 },
 "nbformat": 4,
 "nbformat_minor": 5
}
