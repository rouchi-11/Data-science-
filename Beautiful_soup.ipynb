{
 "cells": [
  {
   "cell_type": "code",
   "execution_count": 135,
   "id": "62a77c53-ba21-4218-8d8e-46bd36595c88",
   "metadata": {},
   "outputs": [],
   "source": [
    "import requests\n",
    "from bs4 import BeautifulSoup\n",
    "import pandas as pd"
   ]
  },
  {
   "cell_type": "code",
   "execution_count": 136,
   "id": "1a33a125-26fc-400d-b90c-6e0149cebf79",
   "metadata": {},
   "outputs": [],
   "source": [
    "url=\"https://en.wikipedia.org/wiki/Plant\"\n",
    "response=requests.get(url)\n"
   ]
  },
  {
   "cell_type": "code",
   "execution_count": 137,
   "id": "247cd28b-eb75-4528-9eed-a93b01ccd223",
   "metadata": {},
   "outputs": [],
   "source": [
    "soup=BeautifulSoup(response.content,'html.parser')"
   ]
  },
  {
   "cell_type": "code",
   "execution_count": 138,
   "id": "40fe6eaf-8ebb-4742-8d36-1fd118d5c37f",
   "metadata": {},
   "outputs": [],
   "source": [
    "table=soup.find('table',{'class':'wikitable'})"
   ]
  },
  {
   "cell_type": "code",
   "execution_count": 139,
   "id": "4df23ad8-fa7a-4cea-bfd4-943b56d2a7b2",
   "metadata": {},
   "outputs": [
    {
     "name": "stdout",
     "output_type": "stream",
     "text": [
      "<th>Name(s)\n",
      "</th>\n",
      "<th>Scope\n",
      "</th>\n",
      "<th>Organisation\n",
      "</th>\n",
      "<th>Description\n",
      "</th>\n"
     ]
    }
   ],
   "source": [
    "headers=[]\n",
    "for th in table.find_all('th'):\n",
    "    print(th)\n",
    "    header_text=th.text.strip()\n",
    "    headers.append(header_text)"
   ]
  },
  {
   "cell_type": "code",
   "execution_count": 140,
   "id": "e4b467af-6a35-4069-8b00-7fd9cc4e9a1a",
   "metadata": {},
   "outputs": [
    {
     "name": "stdout",
     "output_type": "stream",
     "text": [
      "Name(s)\n",
      "1\n",
      "Scope\n",
      "2\n",
      "Organisation\n",
      "3\n",
      "Description\n",
      "4\n"
     ]
    }
   ],
   "source": [
    "headers=[]\n",
    "for th in table.find_all('th'):\n",
    "    header_text=th.text.strip()\n",
    "    print(header_text)\n",
    "    headers.append(header_text)\n",
    "    print(len(headers))"
   ]
  },
  {
   "cell_type": "code",
   "execution_count": null,
   "id": "8ecf26ad-a617-406f-9d81-a977f6cd0c18",
   "metadata": {},
   "outputs": [],
   "source": []
  },
  {
   "cell_type": "code",
   "execution_count": 154,
   "id": "c11b8335-0501-4d6e-920b-d8f12ca1ea15",
   "metadata": {},
   "outputs": [],
   "source": [
    "rows=[]\n",
    "for tr in table.find_all('tr'):\n",
    "    cells=tr.find_all(['td','th'])\n",
    "    row=[cell.get_text(strip=True) for cell in cells]\n",
    "    if row:\n",
    "        rows.append(row)"
   ]
  },
  {
   "cell_type": "code",
   "execution_count": 156,
   "id": "459ec8f3-10f1-4a4e-90f2-e5147a36c287",
   "metadata": {},
   "outputs": [],
   "source": [
    "cleaned_rows=[]\n",
    "for row in rows:\n",
    "    if len(row)<len(headers):\n",
    "        row.extend([None]*(len(headers)-len(row)))\n",
    "    elif len(row)>len(headers):\n",
    "        row=row[:len(headers)]\n",
    "        cleaned_row.append(row)"
   ]
  },
  {
   "cell_type": "code",
   "execution_count": 160,
   "id": "b89fa719-ec45-49ba-bb31-1dfa7f4eafdd",
   "metadata": {},
   "outputs": [
    {
     "name": "stdout",
     "output_type": "stream",
     "text": [
      "Empty DataFrame\n",
      "Columns: [Name(s), Scope, Organisation, Description]\n",
      "Index: []\n"
     ]
    }
   ],
   "source": [
    "df=pd.DataFrame(cleaned_rows,columns=headers)\n",
    "print(df.head())"
   ]
  },
  {
   "cell_type": "code",
   "execution_count": 162,
   "id": "1c5f549e-c418-46d1-befa-b158cc2dbfe5",
   "metadata": {},
   "outputs": [
    {
     "name": "stdout",
     "output_type": "stream",
     "text": [
      "Empty DataFrame\n",
      "Columns: [Name(s), Scope, Organisation, Description]\n",
      "Index: []\n"
     ]
    }
   ],
   "source": [
    "df=df[1:]\n",
    "print(df)"
   ]
  },
  {
   "cell_type": "code",
   "execution_count": null,
   "id": "64be65f2-ed50-41e1-a927-e33b65bb7187",
   "metadata": {},
   "outputs": [],
   "source": []
  },
  {
   "cell_type": "code",
   "execution_count": null,
   "id": "9297fd9b-e592-44d8-a712-bc8ff9ef60ed",
   "metadata": {},
   "outputs": [],
   "source": []
  }
 ],
 "metadata": {
  "kernelspec": {
   "display_name": "Python 3 (ipykernel)",
   "language": "python",
   "name": "python3"
  },
  "language_info": {
   "codemirror_mode": {
    "name": "ipython",
    "version": 3
   },
   "file_extension": ".py",
   "mimetype": "text/x-python",
   "name": "python",
   "nbconvert_exporter": "python",
   "pygments_lexer": "ipython3",
   "version": "3.12.4"
  }
 },
 "nbformat": 4,
 "nbformat_minor": 5
}
